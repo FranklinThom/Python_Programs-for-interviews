{
 "cells": [
  {
   "cell_type": "code",
   "execution_count": 37,
   "metadata": {},
   "outputs": [],
   "source": [
    "class Node:\n",
    "    def __init__(self,data):\n",
    "        self.data=data\n",
    "        self.next=None\n",
    "        \n",
    "class LinkedList:\n",
    "    def __init__(self):\n",
    "        self.head=None\n",
    "    \n",
    "    def insert(self,data):\n",
    "        new_node = Node(data) \n",
    "          \n",
    "        if self.head is None: \n",
    "            self.head = new_node \n",
    "            return\n",
    "        last = self.head \n",
    "          \n",
    "        while last.next: \n",
    "            last = last.next\n",
    "        last.next = new_node\n",
    "        \n",
    "\n",
    "    def printl(self):\n",
    "        temp=self.head\n",
    "        while(temp):\n",
    "            print(temp.data)\n",
    "            temp=temp.next\n",
    "    \n",
    "    \n",
    "    "
   ]
  },
  {
   "cell_type": "code",
   "execution_count": 45,
   "metadata": {},
   "outputs": [],
   "source": [
    "def merge(h1,h2):\n",
    "    h3=None\n",
    "    if h1 is None:\n",
    "        return h2\n",
    "\n",
    "    if h2 is None:\n",
    "        return h1\n",
    "\n",
    "    if h1 and h2 :\n",
    "        if(h1.data<h2.data):\n",
    "            so=h1\n",
    "            h1=so.next\n",
    "        else:\n",
    "            so=h2\n",
    "            h2=so.next\n",
    "\n",
    "    h3=so\n",
    "\n",
    "    while(h1 and h2):\n",
    "\n",
    "        if(h1.data<h2.data):\n",
    "            so.next=h1\n",
    "            so=h1\n",
    "            h1=so.next\n",
    "        else:\n",
    "            so.next=h2\n",
    "            so=h2\n",
    "            h2=so.next\n",
    "\n",
    "    if(h1==None):\n",
    "        so.next=h2\n",
    "\n",
    "    elif(h2==None):\n",
    "        so.next=h1\n",
    "\n",
    "\n",
    "    return h3   \n"
   ]
  },
  {
   "cell_type": "code",
   "execution_count": 46,
   "metadata": {},
   "outputs": [
    {
     "name": "stdout",
     "output_type": "stream",
     "text": [
      "1\n",
      "2\n",
      "3\n"
     ]
    }
   ],
   "source": [
    "LL1=LinkedList()\n",
    "LL1.insert(1)\n",
    "LL1.insert(2)\n",
    "LL1.insert(3)\n",
    "LL1.printl()"
   ]
  },
  {
   "cell_type": "code",
   "execution_count": 47,
   "metadata": {},
   "outputs": [
    {
     "data": {
      "text/plain": [
       "<__main__.Node at 0x2428d1195c0>"
      ]
     },
     "execution_count": 47,
     "metadata": {},
     "output_type": "execute_result"
    }
   ],
   "source": [
    "LL1.head"
   ]
  },
  {
   "cell_type": "code",
   "execution_count": 48,
   "metadata": {},
   "outputs": [
    {
     "name": "stdout",
     "output_type": "stream",
     "text": [
      "4\n",
      "5\n",
      "6\n"
     ]
    }
   ],
   "source": [
    "LL2=LinkedList()\n",
    "LL2.insert(4)\n",
    "LL2.insert(5)\n",
    "LL2.insert(6)\n",
    "LL2.printl()"
   ]
  },
  {
   "cell_type": "code",
   "execution_count": 49,
   "metadata": {},
   "outputs": [],
   "source": [
    "LL3 = LinkedList() "
   ]
  },
  {
   "cell_type": "code",
   "execution_count": 50,
   "metadata": {},
   "outputs": [],
   "source": [
    "LL3.head = merge(LL1.head, LL2.head) "
   ]
  },
  {
   "cell_type": "code",
   "execution_count": 51,
   "metadata": {},
   "outputs": [
    {
     "name": "stdout",
     "output_type": "stream",
     "text": [
      "1\n",
      "2\n",
      "3\n",
      "4\n",
      "5\n",
      "6\n"
     ]
    }
   ],
   "source": [
    "LL3.printl()"
   ]
  },
  {
   "cell_type": "code",
   "execution_count": null,
   "metadata": {},
   "outputs": [],
   "source": []
  }
 ],
 "metadata": {
  "kernelspec": {
   "display_name": "Python 3",
   "language": "python",
   "name": "python3"
  },
  "language_info": {
   "codemirror_mode": {
    "name": "ipython",
    "version": 3
   },
   "file_extension": ".py",
   "mimetype": "text/x-python",
   "name": "python",
   "nbconvert_exporter": "python",
   "pygments_lexer": "ipython3",
   "version": "3.7.3"
  }
 },
 "nbformat": 4,
 "nbformat_minor": 2
}
