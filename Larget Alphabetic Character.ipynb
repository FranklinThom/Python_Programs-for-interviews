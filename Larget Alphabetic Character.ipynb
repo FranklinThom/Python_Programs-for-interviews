{
 "cells": [
  {
   "cell_type": "markdown",
   "metadata": {},
   "source": [
    "## Question: Given a string S, find the largest alphabetic character, whose both uppercase and lowercase appear in S. The uppercase character should be returned. For example, for S = \"admeDCAB\", return \"D\". If there is no such character, return \"NO\"."
   ]
  },
  {
   "cell_type": "code",
   "execution_count": 16,
   "metadata": {},
   "outputs": [],
   "source": [
    "def upper_lower(string):\n",
    "    lower=set()\n",
    "    curr_max=''\n",
    "    maximum=''\n",
    "    for i in string:\n",
    "        if i.islower():\n",
    "            lower.add(i)\n",
    "    for i in string:\n",
    "        if i.isupper() and i.lower() in lower:\n",
    "            curr_max=i\n",
    "            maximum=max(curr_max,maximum)\n",
    "    return(maximum)\n",
    "            \n",
    "            "
   ]
  },
  {
   "cell_type": "code",
   "execution_count": 17,
   "metadata": {},
   "outputs": [
    {
     "data": {
      "text/plain": [
       "'D'"
      ]
     },
     "execution_count": 17,
     "metadata": {},
     "output_type": "execute_result"
    }
   ],
   "source": [
    "upper_lower(\"admeDCAB\")"
   ]
  }
 ],
 "metadata": {
  "kernelspec": {
   "display_name": "Python 3",
   "language": "python",
   "name": "python3"
  },
  "language_info": {
   "codemirror_mode": {
    "name": "ipython",
    "version": 3
   },
   "file_extension": ".py",
   "mimetype": "text/x-python",
   "name": "python",
   "nbconvert_exporter": "python",
   "pygments_lexer": "ipython3",
   "version": "3.7.3"
  }
 },
 "nbformat": 4,
 "nbformat_minor": 2
}
