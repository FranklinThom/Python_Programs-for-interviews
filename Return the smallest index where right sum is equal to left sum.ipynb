{
 "cells": [
  {
   "cell_type": "code",
   "execution_count": 1,
   "metadata": {},
   "outputs": [
    {
     "name": "stdout",
     "output_type": "stream",
     "text": [
      "2\n"
     ]
    }
   ],
   "source": [
    "def func(arr):\n",
    "    ls=0\n",
    "    ls_arr=[] #left sum array\n",
    "    rs_arr=[] # right sum array\n",
    "    ts=sum(arr)\n",
    "    for i in range(len(arr)):\n",
    "        ls+=arr[i]\n",
    "        ls_arr.append(ls-arr[i])\n",
    "        rs_arr.append(ts-ls_arr[i]-arr[i])\n",
    "        \n",
    "    for i in range(len(arr)):\n",
    "        if(ls_arr[i]==rs_arr[i]):\n",
    "            return(i)\n",
    "            break\n",
    "    \n",
    "d=func([1,2,3,3])\n",
    "print(d)"
   ]
  },
  {
   "cell_type": "code",
   "execution_count": null,
   "metadata": {},
   "outputs": [],
   "source": []
  }
 ],
 "metadata": {
  "kernelspec": {
   "display_name": "Python 3",
   "language": "python",
   "name": "python3"
  },
  "language_info": {
   "codemirror_mode": {
    "name": "ipython",
    "version": 3
   },
   "file_extension": ".py",
   "mimetype": "text/x-python",
   "name": "python",
   "nbconvert_exporter": "python",
   "pygments_lexer": "ipython3",
   "version": "3.7.3"
  }
 },
 "nbformat": 4,
 "nbformat_minor": 2
}
